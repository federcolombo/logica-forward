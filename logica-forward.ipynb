{
 "cells": [
  {
   "cell_type": "code",
   "execution_count": 1,
   "metadata": {},
   "outputs": [],
   "source": [
    "import pandas as pd\n",
    "from pandas import ExcelWriter\n",
    "import numpy as np\n",
    "from datetime import datetime"
   ]
  },
  {
   "cell_type": "code",
   "execution_count": 2,
   "metadata": {},
   "outputs": [],
   "source": [
    "import warnings\n",
    "warnings.filterwarnings(\"ignore\", category=FutureWarning)"
   ]
  },
  {
   "cell_type": "code",
   "execution_count": 3,
   "metadata": {},
   "outputs": [],
   "source": [
    "# Ciclos de siembra y cosecha en Argentina para los cultivos de soja, maíz, trigo, girasol y sorgo"
   ]
  },
  {
   "attachments": {
    "image.png": {
     "image/png": "[encoded data removed]"
    }
   },
   "cell_type": "markdown",
   "metadata": {},
   "source": [
    "![image.png](attachment:image.png)"
   ]
  },
  {
   "cell_type": "code",
   "execution_count": 4,
   "metadata": {},
   "outputs": [],
   "source": [
    "def determinar_campana(cultivo, mes_forward, año_forward):\n",
    "    # Diccionario con el primer mes de cosecha de cada cultivo\n",
    "    inicio_cosecha = {\n",
    "        'Soja': 3,  # Marzo\n",
    "        'Maíz': 2,  # Febrero\n",
    "        'Trigo': 11, # Noviembre\n",
    "        'Girasol': 1,  # Enero\n",
    "        'Sorgo': 3   # Marzo\n",
    "    }\n",
    "\n",
    "    # Diccionario con el último mes de cosecha para cultivos que cruzan el año\n",
    "    fin_cosecha = {\n",
    "        'Trigo': 1,  # Enero del año siguiente\n",
    "    }\n",
    "    \n",
    "    # Diccionario para convertir número de mes a su abreviatura\n",
    "    meses = {\n",
    "        1: 'ENE', 2: 'FEB', 3: 'MAR', 4: 'ABR',\n",
    "        5: 'MAY', 6: 'JUN', 7: 'JUL', 8: 'AGO',\n",
    "        9: 'SEP', 10: 'OCT', 11: 'NOV', 12: 'DIC'\n",
    "    }\n",
    "    \n",
    "    mes_inicio_cosecha = inicio_cosecha.get(cultivo)\n",
    "    mes_fin_cosecha = fin_cosecha.get(cultivo, mes_inicio_cosecha)\n",
    "    \n",
    "    # Determinar la campaña basado en el mes del forward\n",
    "    if cultivo == 'Trigo':\n",
    "        if mes_forward >= mes_inicio_cosecha or mes_forward <= 1:  # Noviembre, Diciembre, Enero\n",
    "            if mes_forward == 1:  # Enero\n",
    "                año_campana = año_forward - 1  # Enero pertenece a la campaña del año anterior\n",
    "            else:\n",
    "                año_campana = año_forward  # Noviembre y Diciembre pertenecen a la campaña del año de siembra\n",
    "        else:\n",
    "            año_campana = año_forward - 1  # Meses antes de noviembre pertenecen a la campaña anterior\n",
    "    else:\n",
    "        if mes_forward < mes_inicio_cosecha:\n",
    "            año_campana = año_forward - 2  # El forward pertenece a la campaña que terminó en el año anterior\n",
    "        else:\n",
    "            año_campana = año_forward - 1  # El forward pertenece a la cosecha actual que comenzó con la siembra del año anterior\n",
    "\n",
    "    return f\"Para un negocio de {cultivo} Forward {meses[mes_forward]}-{str(año_forward)[2:]} la campaña es {año_campana}-{año_campana + 1}\"\n"
   ]
  },
  {
   "cell_type": "code",
   "execution_count": 5,
   "metadata": {},
   "outputs": [],
   "source": [
    "# Validaciones"
   ]
  },
  {
   "cell_type": "code",
   "execution_count": 7,
   "metadata": {},
   "outputs": [],
   "source": [
    "# Diccionario para convertir número de mes a su abreviatura\n",
    "meses = {\n",
    "    1: 'ENE', 2: 'FEB', 3: 'MAR', 4: 'ABR',\n",
    "    5: 'MAY', 6: 'JUN', 7: 'JUL', 8: 'AGO',\n",
    "    9: 'SEP', 10: 'OCT', 11: 'NOV', 12: 'DIC'\n",
    "}"
   ]
  },
  {
   "cell_type": "code",
   "execution_count": 10,
   "metadata": {},
   "outputs": [
    {
     "data": {
      "text/plain": [
       "{'Soja Fw ENE-25': 'Para un negocio de Soja Forward ENE-25 la campaña es 2023-2024',\n",
       " 'Soja Fw FEB-25': 'Para un negocio de Soja Forward FEB-25 la campaña es 2023-2024',\n",
       " 'Soja Fw MAR-25': 'Para un negocio de Soja Forward MAR-25 la campaña es 2024-2025',\n",
       " 'Soja Fw ABR-25': 'Para un negocio de Soja Forward ABR-25 la campaña es 2024-2025'}"
      ]
     },
     "execution_count": 10,
     "metadata": {},
     "output_type": "execute_result"
    }
   ],
   "source": [
    "# Pruebas para SOJA\n",
    "test_months = [1, 2, 3, 4]\n",
    "test_results = {'Soja ' + 'Fw ' + meses[month] + '-25': determinar_campana('Soja', month, 2025) for month in test_months}\n",
    "test_results"
   ]
  },
  {
   "cell_type": "code",
   "execution_count": 16,
   "metadata": {},
   "outputs": [
    {
     "data": {
      "text/plain": [
       "{'Maíz Fw NOV-24': 'Para un negocio de Maíz Forward NOV-24 la campaña es 2023-2024',\n",
       " 'Maíz Fw DIC-24': 'Para un negocio de Maíz Forward DIC-24 la campaña es 2023-2024'}"
      ]
     },
     "execution_count": 16,
     "metadata": {},
     "output_type": "execute_result"
    }
   ],
   "source": [
    "# Pruebas para MAÍZ\n",
    "test_months = [11, 12]\n",
    "test_results = {'Maíz ' + 'Fw ' + meses[month] + '-24': determinar_campana('Maíz', month, 2024) for month in test_months}\n",
    "test_results"
   ]
  },
  {
   "cell_type": "code",
   "execution_count": 17,
   "metadata": {},
   "outputs": [
    {
     "data": {
      "text/plain": [
       "{'Maíz Fw ENE-25': 'Para un negocio de Maíz Forward ENE-25 la campaña es 2023-2024',\n",
       " 'Maíz Fw FEB-25': 'Para un negocio de Maíz Forward FEB-25 la campaña es 2024-2025',\n",
       " 'Maíz Fw MAR-25': 'Para un negocio de Maíz Forward MAR-25 la campaña es 2024-2025'}"
      ]
     },
     "execution_count": 17,
     "metadata": {},
     "output_type": "execute_result"
    }
   ],
   "source": [
    "# Pruebas para MAÍZ\n",
    "test_months = [1, 2, 3]\n",
    "test_results = {'Maíz ' + 'Fw ' + meses[month] + '-25': determinar_campana('Maíz', month, 2025) for month in test_months}\n",
    "test_results"
   ]
  },
  {
   "cell_type": "code",
   "execution_count": null,
   "metadata": {},
   "outputs": [
    {
     "data": {
      "text/plain": [
       "{'Trigo Fw SEP-24': 'Para un negocio de Trigo Forward SEP-24 la campaña es 2023-2024',\n",
       " 'Trigo Fw OCT-24': 'Para un negocio de Trigo Forward OCT-24 la campaña es 2023-2024',\n",
       " 'Trigo Fw NOV-24': 'Para un negocio de Trigo Forward NOV-24 la campaña es 2024-2025',\n",
       " 'Trigo Fw DIC-24': 'Para un negocio de Trigo Forward DIC-24 la campaña es 2024-2025'}"
      ]
     },
     "metadata": {},
     "output_type": "display_data"
    }
   ],
   "source": [
    "# Pruebas para TRIGO\n",
    "test_months = [9, 10, 11, 12]\n",
    "test_results = {'Trigo ' + 'Fw ' + meses[month] + '-24': determinar_campana('Trigo', month, 2024) for month in test_months}\n",
    "test_results"
   ]
  },
  {
   "cell_type": "code",
   "execution_count": null,
   "metadata": {},
   "outputs": [
    {
     "data": {
      "text/plain": [
       "{'Trigo Fw ENE-25': 'Para un negocio de Trigo Forward ENE-25 la campaña es 2024-2025',\n",
       " 'Trigo Fw FEB-25': 'Para un negocio de Trigo Forward FEB-25 la campaña es 2024-2025',\n",
       " 'Trigo Fw OCT-25': 'Para un negocio de Trigo Forward OCT-25 la campaña es 2024-2025',\n",
       " 'Trigo Fw NOV-25': 'Para un negocio de Trigo Forward NOV-25 la campaña es 2025-2026',\n",
       " 'Trigo Fw DIC-25': 'Para un negocio de Trigo Forward DIC-25 la campaña es 2025-2026'}"
      ]
     },
     "metadata": {},
     "output_type": "display_data"
    }
   ],
   "source": [
    "# Pruebas para TRIGO\n",
    "test_months = [1, 2, 10, 11, 12]\n",
    "test_results = {'Trigo ' + 'Fw ' + meses[month] + '-25': determinar_campana('Trigo', month, 2025) for month in test_months}\n",
    "test_results"
   ]
  },
  {
   "cell_type": "code",
   "execution_count": 13,
   "metadata": {},
   "outputs": [
    {
     "data": {
      "text/plain": [
       "{'Girasol Fw NOV-25': 'Para un negocio de Girasol Forward NOV-24 la campaña es 2023-2024',\n",
       " 'Girasol Fw DIC-25': 'Para un negocio de Girasol Forward DIC-24 la campaña es 2023-2024'}"
      ]
     },
     "execution_count": 13,
     "metadata": {},
     "output_type": "execute_result"
    }
   ],
   "source": [
    "# Pruebas para GIRASOL 2024\n",
    "test_months = [11, 12] \n",
    "test_results = {'Girasol ' + 'Fw ' + meses[month] + '-25': determinar_campana('Girasol', month, 2024) for month in test_months}\n",
    "test_results"
   ]
  },
  {
   "cell_type": "code",
   "execution_count": 14,
   "metadata": {},
   "outputs": [
    {
     "data": {
      "text/plain": [
       "{'Girasol Fw ENE-25': 'Para un negocio de Girasol Forward ENE-25 la campaña es 2024-2025',\n",
       " 'Girasol Fw FEB-25': 'Para un negocio de Girasol Forward FEB-25 la campaña es 2024-2025',\n",
       " 'Girasol Fw MAR-25': 'Para un negocio de Girasol Forward MAR-25 la campaña es 2024-2025'}"
      ]
     },
     "execution_count": 14,
     "metadata": {},
     "output_type": "execute_result"
    }
   ],
   "source": [
    "# Pruebas para GIRASOL 2025\n",
    "test_months = [1, 2, 3] \n",
    "test_results = {'Girasol ' + 'Fw ' + meses[month] + '-25': determinar_campana('Girasol', month, 2025) for month in test_months}\n",
    "test_results"
   ]
  },
  {
   "cell_type": "code",
   "execution_count": 15,
   "metadata": {},
   "outputs": [
    {
     "data": {
      "text/plain": [
       "{'Sorgo Fw ENE-25': 'Para un negocio de Sorgo Forward ENE-25 la campaña es 2023-2024',\n",
       " 'Sorgo Fw FEB-25': 'Para un negocio de Sorgo Forward FEB-25 la campaña es 2023-2024',\n",
       " 'Sorgo Fw MAR-25': 'Para un negocio de Sorgo Forward MAR-25 la campaña es 2024-2025',\n",
       " 'Sorgo Fw ABR-25': 'Para un negocio de Sorgo Forward ABR-25 la campaña es 2024-2025'}"
      ]
     },
     "execution_count": 15,
     "metadata": {},
     "output_type": "execute_result"
    }
   ],
   "source": [
    "# Pruebas para SORGO\n",
    "test_months = [1, 2, 3, 4]  # Enero, Febrero, Marzo, Abril\n",
    "test_results = {'Sorgo ' + 'Fw ' + meses[month] + '-25': determinar_campana('Sorgo', month, 2025) for month in test_months}\n",
    "test_results"
   ]
  }
 ],
 "metadata": {
  "kernelspec": {
   "display_name": ".venv",
   "language": "python",
   "name": "python3"
  },
  "language_info": {
   "codemirror_mode": {
    "name": "ipython",
    "version": 3
   },
   "file_extension": ".py",
   "mimetype": "text/x-python",
   "name": "python",
   "nbconvert_exporter": "python",
   "pygments_lexer": "ipython3",
   "version": "3.11.5"
  }
 },
 "nbformat": 4,
 "nbformat_minor": 2
}
